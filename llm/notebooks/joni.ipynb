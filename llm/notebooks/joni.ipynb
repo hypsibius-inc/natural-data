{
 "cells": [
  {
   "cell_type": "code",
   "execution_count": 1,
   "id": "1fd30a51",
   "metadata": {},
   "outputs": [
    {
     "name": "stderr",
     "output_type": "stream",
     "text": [
      "Some weights of the model checkpoint at salesken/query_wellformedness_score were not used when initializing RobertaForSequenceClassification: ['roberta.pooler.dense.bias', 'roberta.pooler.dense.weight']\n",
      "- This IS expected if you are initializing RobertaForSequenceClassification from the checkpoint of a model trained on another task or with another architecture (e.g. initializing a BertForSequenceClassification model from a BertForPreTraining model).\n",
      "- This IS NOT expected if you are initializing RobertaForSequenceClassification from the checkpoint of a model that you expect to be exactly identical (initializing a BertForSequenceClassification model from a BertForSequenceClassification model).\n"
     ]
    }
   ],
   "source": [
    "from llm.core.classifiers import classify"
   ]
  },
  {
   "cell_type": "code",
   "execution_count": 2,
   "id": "76de305e",
   "metadata": {},
   "outputs": [
    {
     "name": "stderr",
     "output_type": "stream",
     "text": [
      "Asking to truncate to max_length but no maximum length is provided and the model has no predefined maximum length. Default to no truncation.\n"
     ]
    },
    {
     "data": {
      "text/plain": [
       "[Classification of \"This is me testing text\"\n",
       " Top Websites: [(<Website.ComputersAndTechnology: 13>, 0.9919811487197876), (<Website.SocialNetworkingAndMessaging: 1>, 0.0022294651716947556), (<Website.Education: 12>, 0.0014610686339437962)]\n",
       " Top Emotions: [(<Emotion.neutral: 27>, 0.9976600408554077), (<Emotion.approval: 4>, 0.00048229857929982245), (<Emotion.annoyance: 3>, 0.0003708175790961832)]\n",
       " Top Evidence: [(<EvidenceTypes.Null: 3>, 0.9615452289581299), (<EvidenceTypes.Assumption: 1>, 0.017533080652356148), (<EvidenceTypes.Other: 4>, 0.01399047952145338)]\n",
       " Top Labels: [('HR (human resources)', 0.5890635848045349), ('question', 0.5291655659675598), ('update', 0.38259264826774597)]\n",
       " Wellformedness: 0.8276990056037903,\n",
       " Classification of \"And this is you testing text\"\n",
       " Top Websites: [(<Website.ComputersAndTechnology: 13>, 0.9865589141845703), (<Website.SocialNetworkingAndMessaging: 1>, 0.0042551676742732525), (<Website.Education: 12>, 0.002323627471923828)]\n",
       " Top Emotions: [(<Emotion.neutral: 27>, 0.9775071740150452), (<Emotion.annoyance: 3>, 0.009306739084422588), (<Emotion.surprise: 26>, 0.0019810155499726534)]\n",
       " Top Evidence: [(<EvidenceTypes.Null: 3>, 0.9696066379547119), (<EvidenceTypes.Other: 4>, 0.013860451988875866), (<EvidenceTypes.Assumption: 1>, 0.00973273441195488)]\n",
       " Top Labels: [('question', 0.700982928276062), ('update', 0.6445966362953186), ('HR (human resources)', 0.534652590751648)]\n",
       " Wellformedness: 0.45752543210983276,\n",
       " Classification of \"Why are we testing texts?\"\n",
       " Top Websites: [(<Website.ComputersAndTechnology: 13>, 0.33184733986854553), (<Website.Education: 12>, 0.31120070815086365), (<Website.SocialNetworkingAndMessaging: 1>, 0.15701118111610413)]\n",
       " Top Emotions: [(<Emotion.curiosity: 7>, 0.4200648367404938), (<Emotion.confusion: 6>, 0.29456689953804016), (<Emotion.neutral: 27>, 0.2544776499271393)]\n",
       " Top Evidence: [(<EvidenceTypes.Null: 3>, 0.9329547882080078), (<EvidenceTypes.Assumption: 1>, 0.04151700437068939), (<EvidenceTypes.Other: 4>, 0.01650020107626915)]\n",
       " Top Labels: [('question', 0.8316819667816162), ('marketing', 0.33384230732917786), ('update', 0.3058454096317291)]\n",
       " Wellformedness: 0.970731794834137]"
      ]
     },
     "execution_count": 2,
     "metadata": {},
     "output_type": "execute_result"
    }
   ],
   "source": [
    "classify([\"This is me testing text\", \"And this is you testing text\", \"Why are we testing texts?\"])"
   ]
  },
  {
   "cell_type": "code",
   "execution_count": null,
   "id": "e3f140da",
   "metadata": {},
   "outputs": [],
   "source": []
  }
 ],
 "metadata": {
  "kernelspec": {
   "display_name": "Python 3 (ipykernel)",
   "language": "python",
   "name": "python3"
  },
  "language_info": {
   "codemirror_mode": {
    "name": "ipython",
    "version": 3
   },
   "file_extension": ".py",
   "mimetype": "text/x-python",
   "name": "python",
   "nbconvert_exporter": "python",
   "pygments_lexer": "ipython3",
   "version": "3.10.6"
  }
 },
 "nbformat": 4,
 "nbformat_minor": 5
}
